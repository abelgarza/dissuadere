{
 "cells": [
  {
   "cell_type": "code",
   "execution_count": null,
   "metadata": {},
   "outputs": [
    {
     "name": "stdout",
     "output_type": "stream",
     "text": [
      "pygame 2.5.2 (SDL 2.28.3, Python 3.11.3)\n",
      "Hello from the pygame community. https://www.pygame.org/contribute.html\n"
     ]
    },
    {
     "ename": "AttributeError",
     "evalue": "'MapVisualizer3D' object has no attribute 'render'",
     "output_type": "error",
     "traceback": [
      "\u001b[1;31m---------------------------------------------------------------------------\u001b[0m",
      "\u001b[1;31mAttributeError\u001b[0m                            Traceback (most recent call last)",
      "Cell \u001b[1;32mIn[1], line 8\u001b[0m\n\u001b[0;32m      6\u001b[0m \u001b[38;5;66;03m# Crea el visualizador y renderiza el mapa\u001b[39;00m\n\u001b[0;32m      7\u001b[0m visualizer \u001b[38;5;241m=\u001b[39m MapVisualizer3D(env)\n\u001b[1;32m----> 8\u001b[0m \u001b[43mvisualizer\u001b[49m\u001b[38;5;241;43m.\u001b[39;49m\u001b[43mrender\u001b[49m()\n",
      "\u001b[1;31mAttributeError\u001b[0m: 'MapVisualizer3D' object has no attribute 'render'"
     ]
    },
    {
     "ename": "",
     "evalue": "",
     "output_type": "error",
     "traceback": [
      "\u001b[1;31mThe Kernel crashed while executing code in the the current cell or a previous cell. Please review the code in the cell(s) to identify a possible cause of the failure. Click <a href='https://aka.ms/vscodeJupyterKernelCrash'>here</a> for more info. View Jupyter <a href='command:jupyter.viewOutput'>log</a> for further details."
     ]
    }
   ],
   "source": [
    "from main.visualization import MapVisualizer3D\n",
    "from main.environment import Environment\n",
    "\n",
    "env = Environment(35)\n",
    "\n",
    "# Crea el visualizador y renderiza el mapa\n",
    "visualizer = MapVisualizer3D(env)\n",
    "visualizer.render()"
   ]
  },
  {
   "cell_type": "code",
   "execution_count": null,
   "metadata": {},
   "outputs": [],
   "source": [
    "import pandas as pd\n",
    "\n",
    "# Suponiendo que 'env.map' es un objeto de NetworkX Graph\n",
    "world = env.map\n",
    "\n",
    "# Recursos del nodo\n",
    "world_resources = world.nodes.data('resources')\n",
    "\n",
    "# Convertir NodeDataView a un diccionario\n",
    "node_dict = {node: data for node, data in world_resources}\n",
    "\n",
    "# Crear un DataFrame de Pandas a partir del diccionario\n",
    "world_df = pd.DataFrame.from_dict(node_dict, orient='index')"
   ]
  },
  {
   "cell_type": "code",
   "execution_count": null,
   "metadata": {},
   "outputs": [],
   "source": [
    "world_df"
   ]
  },
  {
   "cell_type": "code",
   "execution_count": null,
   "metadata": {},
   "outputs": [],
   "source": [
    "edges = world.edges.data(data=True,)"
   ]
  },
  {
   "cell_type": "code",
   "execution_count": null,
   "metadata": {},
   "outputs": [],
   "source": [
    "from main.environment import Environment\n",
    "from main.visualization import MapVisualizer3D\n",
    "\n",
    "# Crea una instancia de Environment\n",
    "env = Environment(num_nodes=25)  # Ajusta el número de nodos según sea necesario\n",
    "\n",
    "# Crea el visualizador y renderiza el mapa\n",
    "visualizer = MapVisualizer3D(env)\n",
    "visualizer.render()\n"
   ]
  }
 ],
 "metadata": {
  "kernelspec": {
   "display_name": "Python 3",
   "language": "python",
   "name": "python3"
  },
  "language_info": {
   "codemirror_mode": {
    "name": "ipython",
    "version": 3
   },
   "file_extension": ".py",
   "mimetype": "text/x-python",
   "name": "python",
   "nbconvert_exporter": "python",
   "pygments_lexer": "ipython3",
   "version": "3.11.3"
  }
 },
 "nbformat": 4,
 "nbformat_minor": 2
}
