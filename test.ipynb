{
 "cells": [
  {
   "cell_type": "code",
   "execution_count": null,
   "metadata": {},
   "outputs": [],
   "source": [
    "from main.visualization import MapVisualizer3D\n",
    "from main.environment import Environment\n",
    "\n",
    "env = Environment(20)\n",
    "\n",
    "# Crea el visualizador y renderiza el mapa\n",
    "visualizer = MapVisualizer3D(env)\n",
    "visualizer.render()"
   ]
  },
  {
   "cell_type": "code",
   "execution_count": null,
   "metadata": {},
   "outputs": [],
   "source": [
    "import pandas as pd\n",
    "\n",
    "# Suponiendo que 'env.map' es un objeto de NetworkX Graph\n",
    "world = env.map\n",
    "\n",
    "# Recursos del nodo\n",
    "world_resources = world.nodes.data('resources')\n",
    "\n",
    "# Convertir NodeDataView a un diccionario\n",
    "node_dict = {node: data for node, data in world_resources}\n",
    "\n",
    "# Crear un DataFrame de Pandas a partir del diccionario\n",
    "world_df = pd.DataFrame.from_dict(node_dict, orient='index')"
   ]
  },
  {
   "cell_type": "code",
   "execution_count": null,
   "metadata": {},
   "outputs": [],
   "source": [
    "world_df"
   ]
  },
  {
   "cell_type": "code",
   "execution_count": null,
   "metadata": {},
   "outputs": [],
   "source": [
    "edges = world.edges.data(data=True,)"
   ]
  },
  {
   "cell_type": "code",
   "execution_count": null,
   "metadata": {},
   "outputs": [],
   "source": [
    "from main.environment import Environment\n",
    "from main.visualization import MapVisualizer3D\n",
    "\n",
    "# Crea una instancia de Environment\n",
    "env = Environment(num_nodes=25)  # Ajusta el número de nodos según sea necesario\n",
    "\n",
    "# Crea el visualizador y renderiza el mapa\n",
    "visualizer = MapVisualizer3D(env)\n",
    "visualizer.render()\n"
   ]
  }
 ],
 "metadata": {
  "kernelspec": {
   "display_name": "Python 3",
   "language": "python",
   "name": "python3"
  },
  "language_info": {
   "codemirror_mode": {
    "name": "ipython",
    "version": 3
   },
   "file_extension": ".py",
   "mimetype": "text/x-python",
   "name": "python",
   "nbconvert_exporter": "python",
   "pygments_lexer": "ipython3",
   "version": "3.11.3"
  }
 },
 "nbformat": 4,
 "nbformat_minor": 2
}
